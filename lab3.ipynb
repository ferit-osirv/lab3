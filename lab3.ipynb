{
  "cells": [
    {
      "cell_type": "markdown",
      "metadata": {
        "colab_type": "text",
        "id": "view-in-github"
      },
      "source": [
        "<a href=\"https://colab.research.google.com/github/ferit-osirv/lab3/blob/main/lab3.ipynb\" target=\"_parent\"><img src=\"https://colab.research.google.com/assets/colab-badge.svg\" alt=\"Open In Colab\"/></a>"
      ]
    },
    {
      "cell_type": "markdown",
      "metadata": {
        "id": "e8vtuqXEBP1j"
      },
      "source": [
        "# Lab 3 - Plotting, šum i uklanjanje šuma\n",
        "\n",
        "Ove laboratorijske vježbe se rješavaju u Google Colabu i spremaju na GitHub repozitorij koji je povezan na GitHub Classroom.\n",
        "\n",
        "## Kako riješiti zadatke?\n",
        "\n",
        "1. Prihvatite zadatak putem Google Classroom linka koji ćete dobiti. Google Classroom će kreirati repozitorij na vašem računu.\n",
        "2. Uđite u novokreiran repozitorij na vašem računu u kliknite na **.ipynb** datoteku, zatim kliknite **Open in Colab**.\n",
        "3. Zadatke rješavate u Google Colabu.\n",
        "\n",
        "## Kako spremiti (predati) zadatke?\n",
        "\n",
        "1. Unutar **Google Colaba** kliknite na **Open settings** kotačić u gornjem desnom kutu.\n",
        "2. Kliknite na **GitHub** tab i odaberite kvačicu za **Access private repositories and organizations**.\n",
        "3. Otvorit će se novi prozor da dodate pristup GitHubu. Kod **ferit-osirv** kliknite **Grant**.  \n",
        "4. Spremite i izađite iz postavki.\n",
        "\n",
        "\n",
        "5. Kliknite na **File > Save a copy in GitHub**.\n",
        "6. Odaberite kreiran repozitorij labosa **koji uključuje vaše ime**.\n",
        "\n",
        "> *Napomena:* Korake 1-4 morate napraviti samo prvi put."
      ]
    },
    {
      "cell_type": "markdown",
      "metadata": {
        "id": "feUPz7IDCbDx"
      },
      "source": [
        "## Kopiranje datoteka iz GitHub repozitorija\n",
        "\n",
        "Za izradu vježbi bit će vam potrebne slike i druge datoteke koje će se nalaziti u GitHub repozitoriju vježbe. Ovakva komanda će biti dostupna u notebooku svake vježbe. Ona će kopirati datoteke s GitHuba u Google Colab okruženje.\n",
        "\n",
        "**Ovu komandu je potrebno pokrenuti prije nego što krenete raditi svaku vježbu.**"
      ]
    },
    {
      "cell_type": "code",
      "execution_count": null,
      "metadata": {
        "colab": {
          "base_uri": "https://localhost:8080/"
        },
        "id": "QpP_i0KgCefb",
        "outputId": "e08a0979-cb3c-41f4-be61-07957597ae31"
      },
      "outputs": [],
      "source": [
        "!rm -rf clone && git clone https://github.com/ferit-osirv/lab3 clone && cp -a clone/. ."
      ]
    },
    {
      "cell_type": "markdown",
      "metadata": {
        "id": "XIPg8Vf9Cr8D"
      },
      "source": [
        "**Google Colab će povremeno obrisati sve datoteke.** Tako da će možda biti potrebno ponovno pokrenuti ovu komandu između dvije sesije. Ako dobivate greške da datoteke ne postoje, probajte ponovno pokrenuti gornju komandu."
      ]
    },
    {
      "cell_type": "code",
      "execution_count": null,
      "metadata": {
        "id": "EXS_YJC2WsWD"
      },
      "outputs": [],
      "source": [
        "import numpy as np\n",
        "import cv2 as cv\n",
        "import matplotlib.pyplot as plt"
      ]
    },
    {
      "cell_type": "markdown",
      "metadata": {},
      "source": [
        "## Uvod u Matplotlib\n",
        "\n",
        "Matplotlib je vjerojatno najčešće korišten Python paket za vizualizaciju 2D\n",
        "grafike. Ovaj paket omogućuje i brz način vizualizacije podataka iz Pythona, a\n",
        "isto tako i kreiranje kvalitetnih slika u velikom broju različitih formata.  \n",
        "\n",
        "` matplotlib.pyplot ` je kolekcija funkcija koja omogućuje matplotlibu\n",
        "iscrtavanje slično kao u MATLAB-u. Tako da će oni koji su imali do sada\n",
        "iskustva s grafovima u MATLAB-u se moći vrlo brzo priviknuti. \n",
        "\n",
        "` matplotlib.pyplot ` je _stateful_, što znači da pamti stanje trenutnog grafa,\n",
        "te su sve naredbe usmjerene prema trenutnom grafu. \n",
        "\n",
        "### Jednostavni plotovi\n",
        "\n",
        "U ovom dijelu ćemo pokazati kako pomoću matplotliba crtati neke\n",
        "jednostavne grafove. Počet ćemo s defaultnim postavkama, zatim ćemo polako\n",
        "uljepšavati grafove. \n",
        "\n",
        "Kao prvi korak moramo stvoriti podatke koje ćemo prikazati na plotovima."
      ]
    },
    {
      "cell_type": "code",
      "execution_count": null,
      "metadata": {},
      "outputs": [],
      "source": [
        "X    = np.linspace(-np.pi, np.pi, 256, endpoint=True)\n",
        "C, S = np.cos(X), np.sin(X)"
      ]
    },
    {
      "cell_type": "markdown",
      "metadata": {},
      "source": [
        "Gornji kod će stvoriti numpy polje X koje će imati 256 elemenata u rasponu od\n",
        "$` -\\pi `$ do $` \\pi `$.\n",
        "Nakon toga u varijable C i S spremamo kosinuse i sinuse svakog elementa polja\n",
        "X. Tako sada C i S polja imaju jednak broj elemenata kao i polje X, što vidimo\n",
        "iz sljedećeg koda."
      ]
    },
    {
      "cell_type": "code",
      "execution_count": null,
      "metadata": {},
      "outputs": [],
      "source": [
        "print(X.shape, X.min(), X.max())\n",
        "print(C.shape, C.min(), C.max())\n",
        "print(S.shape, S.min(), S.max())"
      ]
    },
    {
      "cell_type": "markdown",
      "metadata": {},
      "source": [
        "Kako bismo mogli navedena polja plotati, moramo uključiti matplotlib paket u našu\n",
        "skriptu. "
      ]
    },
    {
      "cell_type": "code",
      "execution_count": null,
      "metadata": {},
      "outputs": [],
      "source": [
        "import matplotlib.pyplot as plt"
      ]
    },
    {
      "cell_type": "markdown",
      "metadata": {},
      "source": [
        "Sada su plotting funkcije matplotliba uključene u našu skriptu pod ` plt `\n",
        "imenom, i pristupamo pristupamo im s ` plt. `. Osnovna funkcija za iscrtavanje (plottanje)\n",
        "je ` plot() `, pozivamo je s ` plt.plot( naziv_varijable ) `, a prima jedan ili\n",
        "više parametara. Ukoliko predamo jedan parametar, utoliko funkcija pretpostavlja\n",
        "da su sve vrijednosti unutar predane varijable vrijednosti koje treba iscrtati\n",
        "na $`  y  `$ os, dok na $`  x  `$ os postavlja vrijednosti od 0 do broja\n",
        "elemenata u predanoj varijabli. Funkcija ` plt.show() ` prikazuje plot\n",
        "kreiran ` plot() ` funkcijom."
      ]
    },
    {
      "cell_type": "code",
      "execution_count": null,
      "metadata": {},
      "outputs": [],
      "source": [
        "X    = np.linspace(-np.pi, np.pi, 256, endpoint=True)\n",
        "C, S = np.cos(X), np.sin(X)\n",
        "\n",
        "plt.plot( X )\n",
        "plt.show()\n",
        "plt.plot( C )\n",
        "plt.show()\n",
        "plt.plot( S )\n",
        "plt.show()"
      ]
    },
    {
      "cell_type": "markdown",
      "metadata": {},
      "source": [
        "Ako želimo plotati dvije varijable gdje je jedna ovisna o drugoj, kao u\n",
        "ovom slučaju, gdje je ` X ` nezavisna varijabla a ` C ` i ` S ` su zavisne\n",
        "varijable, predat ćemo ih funkciji obje kao parametre. Prvo predajemo nezavisnu\n",
        "varijablu, u ovom slučaju ` X `, te ona ide na $`  x  `$ os, a nakon toga\n",
        "predajemo zavisnu varijablu ( u ovom slučaju ` C ` i ` S ` ) koja ide na \n",
        "$`  y  `$ os."
      ]
    },
    {
      "cell_type": "code",
      "execution_count": null,
      "metadata": {},
      "outputs": [],
      "source": [
        "X    = np.linspace(-np.pi, np.pi, 256, endpoint=True)\n",
        "C, S = np.cos(X), np.sin(X)\n",
        "\n",
        "plt.plot( X, C )\n",
        "plt.show()\n",
        "plt.plot( X, S )\n",
        "plt.show()"
      ]
    },
    {
      "cell_type": "markdown",
      "metadata": {},
      "source": [
        "Ako želimo plotati više od jedne varijable na istom grafu, tada ih dodajemo\n",
        "s ` plot() ` funkcijom, bez poziva ` plt.show() ` između. Ovaj način je\n",
        "ekvivalentan ` hold on ` naredbi u MATLAB-u. Poziv funkcije ` plt.show() `\n",
        "iscrtava trenutni graf na ekran, te se svi novi pozivi ` plt.plot() ` funkcije\n",
        "izvršavaju na novom grafu, koji se isto prikazuje ponovnim pozivom ` plt.show() ` \n",
        "funkcije."
      ]
    },
    {
      "cell_type": "code",
      "execution_count": null,
      "metadata": {},
      "outputs": [],
      "source": [
        "X    = np.linspace(-np.pi, np.pi, 256, endpoint=True)\n",
        "C, S = np.cos(X), np.sin(X)\n",
        "\n",
        "plt.plot( X, C )\n",
        "plt.plot( X, S )\n",
        "plt.show()"
      ]
    },
    {
      "cell_type": "markdown",
      "metadata": {},
      "source": [
        "Moguće je, koristeći sličnu sintaksu kao u MATLAB-u, dodavati nazive na osi,\n",
        "naslov grafa, mijenjati boje, debljine i oblike linija i slično. Također je\n",
        "moguće renderirati matematičke formule direktno unutar teksta na grafu, za što\n",
        "se koristi LaTeX sintaksa. Pogledajte sljedeći primjer."
      ]
    },
    {
      "cell_type": "code",
      "execution_count": null,
      "metadata": {},
      "outputs": [],
      "source": [
        "X    = np.linspace(-np.pi, np.pi, 256, endpoint=True)\n",
        "C, S = np.cos(X), np.sin(X)\n",
        "R    = np.random.uniform(-1,1,256) #uniformni šum od -1 do 1\n",
        "\n",
        "plt.plot( X, R, 'm-', label=\"uniform noise\") #boja magenta, linija\n",
        "plt.plot( X, C, 'ro', label=\"cosine\")        #boja red, krugovi\n",
        "plt.plot( X, S, 'g.', label=\"sine\" )         #boja green, točkice\n",
        "plt.xlabel(r\"$x$ os - raspon od $-\\pi$ do $\\pi$ \") \n",
        "plt.ylabel(r\"Vrijednost amplitude sinusa i kosinusa \") \n",
        "plt.title(r\"Hello pyplot - $\\sqrt{x^2 + y^2}$!\")\n",
        "plt.legend(loc=\"upper left\")\n",
        "plt.grid()\n",
        "plt.show()"
      ]
    },
    {
      "cell_type": "markdown",
      "metadata": {},
      "source": [
        "U gornjem primjeru možemo primijetiti ` r\"slovo 'r' ispred stringova\" ` u\n",
        "funkcijama ` xlabel `, ` ylabel ` i  ` title `. Razlog su znakovi ` \\ ` \n",
        "unutar stringa. slovo ` r ` prije stringa označava da se radi o _ raw _\n",
        "stringu, te neće _escapeati_ znakove unutar tog stringa. Ti su nam znakovi\n",
        "potrebni jer matplotlib ima u sebi LaTeX prevoditelj koji prevodi LaTeX\n",
        "sintaksu u matematičke formule.\n",
        "\n",
        "#### Vertikalne linije\n",
        "\n",
        "Čest način prikaza podataka u grafovima osim krivulje je i koristeći vertikalne\n",
        "linije. Često ga koristimo za kvantitativno prikazivanje podataka po\n",
        "kategorijama ( koliko ima pripadnika koje kategorije ). Primjer koji se često\n",
        "koristi je prikaz uspješnosti na ispitima. U tom slučaju imamo 5 vertikalnih\n",
        "linija koje predstavljaju 5 ocjena, a visina svake vertikalne linije (ili\n",
        "stupca) predstavlja koliko je ocjena u toj kategoriji. Možemo pogledati\n",
        "sljedeći primjer."
      ]
    },
    {
      "cell_type": "code",
      "execution_count": null,
      "metadata": {},
      "outputs": [],
      "source": [
        "broj_ocjena = [ 7, 12, 18, 9, 5 ]\n",
        "ocjene = [ 1, 2, 3, 4, 5 ]\n",
        "\n",
        "plt.plot(ocjene, broj_ocjena)"
      ]
    },
    {
      "cell_type": "code",
      "execution_count": null,
      "metadata": {},
      "outputs": [],
      "source": [
        "plt.bar(ocjene, broj_ocjena, color='magenta') #moguće je mijenjati boju stupaca"
      ]
    },
    {
      "cell_type": "markdown",
      "metadata": {},
      "source": [
        "Iz ovog grafa je odmah jasno što su to ocjene i koliko kategorija ocjena ima,\n",
        "te kojih ocjena ima najviše. Ipak, što ako imamo puno kategorija koje trebamo\n",
        "prikazati. Primjer je ako želimo prikazati promjenu temperature tijekom dijela\n",
        "godine,\n",
        "te imamo 150 dana za koje želimo prikazati temperaturu za svaki pojedini\n",
        "dan. "
      ]
    },
    {
      "cell_type": "code",
      "execution_count": null,
      "metadata": {},
      "outputs": [],
      "source": [
        "temps = np.random.poisson(20,150) #uzima 150 random vrijednosti iz poissonove distribucije \n",
        "\n",
        "plt.bar(np.arange(len(temps)), temps)"
      ]
    },
    {
      "cell_type": "markdown",
      "metadata": {},
      "source": [
        "U ovakvom slučaju graf ne izgleda baš najljepše, jer matplotlib pokušava oko\n",
        "svakog stupca ocrtati crnu liniju, a stupac obojati u neku boju (default\n",
        "plavu).\n",
        "Za slučaj kada imamo jako puno kategorija koje želimo prikazati, bolji način\n",
        "je umjesto stupca iscrtavati samo vertikalnu liniju. To možemo korištenjem\n",
        "funkcije ` plt.vlines() `."
      ]
    },
    {
      "cell_type": "code",
      "execution_count": null,
      "metadata": {},
      "outputs": [],
      "source": [
        "plt.vlines(np.arange(len(temps)), 0 , temps)"
      ]
    },
    {
      "cell_type": "markdown",
      "metadata": {},
      "source": [
        "U prijašnjem primjeru ` plt.bar() ` funkcija je primala dva parametra, polja\n",
        "vrijednosti na $`  x  `$ i $`  y  `$ osi. Funkcija ` plt.vlines() ` prima tri\n",
        "parametra, gdje je prvi kao i kod ` plt.bar() ` polje vrijednosti na $`  x  `$\n",
        "osi, dok je ovdje drugi parametar minimalna vrijednost linije na $`  y  `$ osi,\n",
        "a treći vrijednosti na $`  y  `$ osi do kojih treba iscrtati linije.\n",
        "\n",
        "Isto kao i u dosadašnjim primjerima, i vertikalne linije možemo uređivati,\n",
        "mijenjati im boju, dodavati tekst, te plotati više različitih tipova plotova na\n",
        "isti graf."
      ]
    },
    {
      "cell_type": "code",
      "execution_count": null,
      "metadata": {},
      "outputs": [],
      "source": [
        "temps = np.random.poisson(20,150)\n",
        "temps3 = temps.copy()\n",
        "temps2 = np.zeros_like(temps)\n",
        "temps2[70:] = temps[70:].copy()\n",
        "temps[70:] = 0\n",
        "\n",
        "plt.plot(np.arange(1,len(temps3)+1), temps3, label=\"maximum\", color=\"red\")\n",
        "plt.vlines(np.arange(1,len(temps)+1),0, temps, label=\"sijecanj\", color=\"magenta\")\n",
        "plt.vlines(np.arange(1,len(temps2)+1),0, temps2, label=\"veljaca\", color=\"green\")\n",
        "plt.legend(loc=\"upper left\")\n",
        "plt.show()"
      ]
    },
    {
      "cell_type": "markdown",
      "metadata": {},
      "source": [
        "## Noise\n",
        "\n",
        "Wikipedia: [Image noise]( https://en.wikipedia.org/wiki/Image_noise )\n",
        "\n",
        "### Gaussian noise\n",
        "\n",
        "Gaussov šum predstavlja statistički šum u kojem je vjerojatnost pojavljivanja\n",
        "određene vrijednosti jednaka normalnoj tj. Gaussovoj distribuciji. \n",
        "\n",
        "Vjerojatnost pojavljivanja neke slučajne vrijednosti $`  z  `$ dana je s:\n",
        "\n",
        "![gauss formula](https://upload.wikimedia.org/math/c/7/0/c70012e2b38059f77ba8b6bb4cea7e2c.png)\n",
        "\n",
        "gdje je $`  z  `$ razina sive boje, $`  \\mu  `$ je srednja vrijednost, dok je\n",
        "$`  \\sigma  `$ standardna devijacija.\n",
        "\n",
        "Gaussova distribucija pri određenim parametrima $`  \\mu  `$ i $`  \\sigma  `$\n",
        "je:\n",
        "\n",
        "![gauss distrib](https://upload.wikimedia.org/wikipedia/commons/thumb/7/74/Normal_Distribution_PDF.svg/720px-Normal_Distribution_PDF.svg.png)\n",
        "\n",
        "Više o Gaussovom šumu: \n",
        "\n",
        "- [Gaussova distribucija](https://en.wikipedia.org/wiki/Gaussian_distribution)\n",
        "- [Gaussov šum](https://en.wikipedia.org/wiki/Gaussian_noise)\n",
        "\n",
        "**Izgled gaussove distribucije možemo dobiti slijedećim kodom:**\n"
      ]
    },
    {
      "cell_type": "code",
      "execution_count": null,
      "metadata": {},
      "outputs": [],
      "source": [
        "mu = 0\n",
        "sigma = 0.1\n",
        "gauss = np.random.normal(mu, sigma, 100000)\n",
        "hist,bins = np.histogram(gauss, bins=256 )\n",
        "plt.vlines(bins[1:], 0, hist)"
      ]
    },
    {
      "cell_type": "markdown",
      "metadata": {},
      "source": [
        "### Uniform noise\n",
        "\n",
        "\n",
        "Uniformni šum se još naziva i kvantizacijski šum. Nastaje najčešće pri\n",
        "kvantiziranju piksela ulazne slike na određeni broj dikretnih razina. Ima\n",
        "otprilike uniformnu razdiobu. To znači da svaka vrijednost unutar nekog raspona\n",
        "ima jednaku vjerojatnost pojavljivanja.\n",
        "\n",
        "![uniform_formula](https://upload.wikimedia.org/math/8/f/b/8fbfebfbb3dfa135da807a45374376d5.png)\n",
        "\n",
        "gdje su $`  a  `$ i $`  b  `$ granice unutar kojih se vrijednost može pojaviti.\n",
        "\n",
        "Ovako izgleda uniformna razdioba:\n",
        "\n",
        "![uniform_dist](https://upload.wikimedia.org/wikipedia/commons/9/96/Uniform_Distribution_PDF_SVG.svg)\n",
        "\n",
        "Više:\n",
        "\n",
        "- [ Quantization (Uniform) noise ](https://en.wikipedia.org/wiki/Image_noise#Quantization_noise_.28uniform_noise.29) \n",
        "- [ Uniform distribution ]( https://en.wikipedia.org/wiki/Uniform_distribution_%28continuous%29)"
      ]
    },
    {
      "cell_type": "markdown",
      "metadata": {},
      "source": [
        "### Salt and pepper noise\n",
        "\n",
        "Salt and pepper šum je oblik šuma gdje je neki postotak slučajnih  piksela na slici ili bijel ili  crn.\n",
        "\n",
        "![snp](https://upload.wikimedia.org/wikipedia/commons/thumb/f/f4/Noise_salt_and_pepper.png/220px-Noise_salt_and_pepper.png)"
      ]
    },
    {
      "cell_type": "markdown",
      "metadata": {},
      "source": [
        "## Implementacija šuma \n",
        "\n",
        "Slijedeći kod sadrži implementaciju dva tipa šuma."
      ]
    },
    {
      "cell_type": "code",
      "execution_count": null,
      "metadata": {},
      "outputs": [],
      "source": [
        "def gaussian_noise(img, mu, sigma):\n",
        "  # generiraj nasumicne brojeve Gaussove distribucije\n",
        "  noise = np.random.normal(mu, sigma, img.shape)\n",
        "  return noise.astype(np.uint8)\n",
        "\n",
        "def salt_n_pepper_noise(img, percent=10):\n",
        "  limit = ((float(percent)/2.0)/100.0) * 255.0\n",
        "  noise = np.random.uniform(0,255, img.shape)\n",
        "  return noise.astype(np.uint8)"
      ]
    },
    {
      "cell_type": "markdown",
      "metadata": {},
      "source": [
        "## Zadatak 1\n",
        "\n",
        "Učitajte proizvoljnu sliku i dodajte joj Gaussov šum koristeći gore-definiranu funkciju. Prikažite izvornu i sliku s dodanim šumom u istom kodnom bloku. Kod prikaza slike postaviti `imshow` argument `cmap='gray'`. Za svaku sliku postaviti naslov koji odgovara toj slici (Sa šumom / Bez šuma).\n",
        "\n",
        "Pomoć: Možete koristiti `plt.show()` za prikazivanje trenutnog stanja na ekran i mogućnost crtanja novog grafa."
      ]
    },
    {
      "cell_type": "code",
      "execution_count": null,
      "metadata": {},
      "outputs": [],
      "source": []
    },
    {
      "cell_type": "markdown",
      "metadata": {},
      "source": [
        "## Zadatak 2\n",
        "\n",
        "Koristeći `plt.hist` funkciju, prikažite histogram izvorne slike kao i slike s dodanim šumom u istom kodnom bloku. Svakom histogramu pridodijeliti naslov. `bins` parametar postavite na maksimalnu vrijednost prikladnu za sliku. Pomoć: Numpy matrice imaju metodu `.flatten()` koja matricu pretvori u 1D niz brojeva."
      ]
    },
    {
      "cell_type": "code",
      "execution_count": null,
      "metadata": {},
      "outputs": [],
      "source": []
    },
    {
      "cell_type": "markdown",
      "metadata": {},
      "source": [
        "## Zadatak 3\n",
        "\n",
        "Po uzoru na funkciju `gaussian_noise` i prema gornjoj formuli za uniformni šum implementirajte funkciju koja će vratiti uniformni šum za parametre a i b."
      ]
    },
    {
      "cell_type": "code",
      "execution_count": null,
      "metadata": {},
      "outputs": [],
      "source": []
    },
    {
      "cell_type": "markdown",
      "metadata": {},
      "source": [
        "Prikažite u istom kodnom bloku izvornu sliku, tu istu sliku s Gaussovim šumom i tu istu sliku s uniformnim šumom."
      ]
    },
    {
      "cell_type": "code",
      "execution_count": null,
      "metadata": {},
      "outputs": [],
      "source": []
    },
    {
      "cell_type": "markdown",
      "metadata": {},
      "source": [
        "# Median filtering\n",
        "\n",
        "### Brief Description\n",
        "\n",
        "The median filter is normally used to reduce noise\n",
        "in an image, somewhat like the mean  (averaging) filter. However, it often does a\n",
        "better job than the mean filter of preserving useful detail in the\n",
        "image.\n",
        "\n",
        "\n",
        "### How It Works\n",
        "\n",
        "Like the mean (averaging) filter, the median filter considers each pixel in the\n",
        "image in turn and looks at its nearby neighbors to decide whether or\n",
        "not it is representative of its surroundings. Instead of simply\n",
        "replacing the pixel value with the <EM>mean</EM> of neighboring pixel\n",
        "values, it replaces it with the <EM>median</EM> of those values. The\n",
        "median is calculated by first sorting all the pixel values from the\n",
        "surrounding neighborhood into numerical order and then replacing the\n",
        "pixel being considered with the middle pixel value.  (If the\n",
        "neighborhood under consideration contains an even number of pixels,\n",
        "the average of the two middle pixel values is used.) Following image \n",
        "illustrates an example calculation.\n",
        "\n",
        "<CENTER><IMG ALT=\"\" SRC=\"http://homepages.inf.ed.ac.uk/rbf/HIPR2/figs/med3x3.gif\"></CENTER>\n",
        "\n",
        " Calculating the median value of a pixel neighborhood. As\n",
        "can be seen, the central pixel value of 150 is rather unrepresentative\n",
        "of the surrounding pixels and is replaced with the median value:\n",
        "124. A 3&#215;3 square neighborhood is used here --- larger\n",
        "neighborhoods will produce more severe smoothing.\n",
        "\n",
        "### Guidelines for Use\n",
        "\n",
        "<P>By calculating the median value of a neighborhood rather than the\n",
        "mean value, the median filter has two main advantages over\n",
        "the mean filter:\n",
        "\n",
        "- The median is a more robust average than the mean and so a\n",
        "single very unrepresentative pixel in a neighborhood will not affect\n",
        "the median value significantly.\n",
        "\n",
        "- Since the median value must actually be the value of one of the\n",
        "pixels in the neighborhood, the median filter does not create new\n",
        "unrealistic pixel values when the filter straddles an edge. For this\n",
        "reason the median filter is much better at preserving sharp edges than\n",
        "the mean filter.\n",
        "\n",
        "You can use median filter with the following code:\n",
        "\n",
        "```\n",
        "median = cv2.medianBlur( image, radius )\n",
        "```\n",
        "\n",
        "where image is numpy array containing the image, and radius is an integer which\n",
        "defines the radius of the neighborhood for filtering.\n",
        "\n",
        "You can use gaussian blur filter with the following code:\n",
        "\n",
        "```\n",
        "blur = cv2.GaussianBlur( image, (kernelXsize, kernelYsize), sigma )\n",
        "```\n",
        "\n",
        "where image is numpy array containing the image, (kernelXsize, kernelYsize) is\n",
        "a tuple containing the size of the kernel ( e.g. `(5, 5)` for 5x5 kernel ) and\n",
        "sigma is the value of $`  \\sigma  `$ parameter."
      ]
    },
    {
      "cell_type": "markdown",
      "metadata": {},
      "source": [
        "## Zadatak 4\n",
        "\n",
        "Korumpirajte proizvoljnu sliku salt and pepper šumom od 10%. Obavite median filter na slici i prikažite izvornu i filtiranu sliku. Odokativno odredite najbolje vrijednosti parametara filtera koje će ukloniti šum ali neće previše zamutiti sliku."
      ]
    },
    {
      "cell_type": "code",
      "execution_count": null,
      "metadata": {},
      "outputs": [],
      "source": []
    },
    {
      "cell_type": "markdown",
      "metadata": {},
      "source": [
        "Na korumpiranoj slici obavite Gaussov blur i prikažite izvornu i filtriranu sliku. Odokativno odredite najbolje vrijednosti parametara filtera koje će ukloniti šum ali neće previše zamutiti sliku."
      ]
    },
    {
      "cell_type": "markdown",
      "metadata": {},
      "source": []
    },
    {
      "cell_type": "markdown",
      "metadata": {},
      "source": [
        "## Zadatak 5\n",
        "\n",
        "Korumpirajte proizvoljnu sliku Gaussovim šumom sa sigma = 15. Obavite median filter na slici i prikažite izvornu i filtiranu sliku. Odokativno odredite najbolje vrijednosti parametara filtera koje će ukloniti šum ali neće previše zamutiti sliku."
      ]
    },
    {
      "cell_type": "code",
      "execution_count": null,
      "metadata": {},
      "outputs": [],
      "source": []
    },
    {
      "cell_type": "markdown",
      "metadata": {},
      "source": [
        "Na korumpiranoj slici obavite Gaussov blur i prikažite izvornu i filtriranu sliku. Odokativno odredite najbolje vrijednosti parametara filtera koje će ukloniti šum ali neće previše zamutiti sliku."
      ]
    },
    {
      "cell_type": "code",
      "execution_count": null,
      "metadata": {},
      "outputs": [],
      "source": []
    },
    {
      "cell_type": "markdown",
      "metadata": {},
      "source": [
        "Nemojte zaboraviti spremiti notebook. :)"
      ]
    }
  ],
  "metadata": {
    "colab": {
      "authorship_tag": "ABX9TyPdsk5aJ45he4xMUxx8bkpd",
      "include_colab_link": true,
      "name": "lab1.ipynb",
      "provenance": []
    },
    "kernelspec": {
      "display_name": "Python 3",
      "name": "python3"
    },
    "language_info": {
      "codemirror_mode": {
        "name": "ipython",
        "version": 3
      },
      "file_extension": ".py",
      "mimetype": "text/x-python",
      "name": "python",
      "nbconvert_exporter": "python",
      "pygments_lexer": "ipython3",
      "version": "3.9.17"
    }
  },
  "nbformat": 4,
  "nbformat_minor": 0
}
